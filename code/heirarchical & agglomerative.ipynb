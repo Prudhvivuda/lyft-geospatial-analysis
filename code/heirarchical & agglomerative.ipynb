{
 "cells": [
  {
   "cell_type": "code",
   "execution_count": null,
   "metadata": {
    "vscode": {
     "languageId": "plaintext"
    }
   },
   "outputs": [],
   "source": [
    "from sklearn.cluster import AgglomerativeClustering\n",
    "from sklearn.metrics import silhouette_score\n",
    "import numpy as np\n",
    "\n",
    "# Assuming the same preparation of coordinates\n",
    "coords = np.vstack((san_fransisco_df_copy_filtered[['start_station_latitude', 'start_station_longitude']].values,\n",
    "                    san_fransisco_df_copy_filtered[['end_station_latitude', 'end_station_longitude']].values))\n",
    "\n",
    "# Decide on a range of cluster numbers to evaluate\n",
    "n_clusters_range = range(2, 11)\n",
    "\n",
    "# Variables to store results\n",
    "silhouette_scores = []\n",
    "\n",
    "for n_clusters in n_clusters_range:\n",
    "    clustering = AgglomerativeClustering(n_clusters=n_clusters)\n",
    "    labels = clustering.fit_predict(coords)\n",
    "\n",
    "    # Compute the silhouette score\n",
    "    score = silhouette_score(coords, labels)\n",
    "    silhouette_scores.append(score)\n",
    "\n",
    "# Find the optimal number of clusters based on silhouette score\n",
    "optimal_n_clusters = n_clusters_range[silhouette_scores.index(max(silhouette_scores))]\n",
    "print(f\"Optimal number of clusters: {optimal_n_clusters}\")"
   ]
  },
  {
   "cell_type": "code",
   "execution_count": null,
   "metadata": {
    "vscode": {
     "languageId": "plaintext"
    }
   },
   "outputs": [],
   "source": [
    "import matplotlib.pyplot as plt\n",
    "\n",
    "# Assuming 'optimal_labels' contains the cluster labels for both start and end locations\n",
    "# and that the labels are ordered such that the first half corresponds to start locations\n",
    "# and the second half to end locations\n",
    "n_clusters = 2\n",
    "clustering = AgglomerativeClustering(n_clusters=n_clusters)\n",
    "optimal_labels = clustering.fit_predict(coords)\n",
    "\n",
    "# Split the dataset for start and end locations for the sake of example visualization\n",
    "# In a real scenario, these would be your actual start and end points\n",
    "midpoint = len(optimal_labels) // 2\n",
    "start_labels = optimal_labels[:midpoint]\n",
    "end_labels = optimal_labels[midpoint:]\n",
    "start_coords = coords[:midpoint]\n",
    "end_coords = coords[midpoint:]\n",
    "\n",
    "# Plotting\n",
    "plt.figure(figsize=(14, 7))\n",
    "\n",
    "# Plot for start locations\n",
    "plt.subplot(1, 2, 1)\n",
    "plt.scatter(start_coords[:, 1], start_coords[:, 0], c=start_labels, cmap='viridis', alpha=0.5)\n",
    "plt.title('Start Locations')\n",
    "plt.xlabel('Longitude')\n",
    "plt.ylabel('Latitude')\n",
    "plt.colorbar(label='Cluster ID')\n",
    "\n",
    "# Plot for end locations\n",
    "plt.subplot(1, 2, 2)\n",
    "plt.scatter(end_coords[:, 1], end_coords[:, 0], c=end_labels, cmap='viridis', alpha=0.5)\n",
    "plt.title('End Locations')\n",
    "plt.xlabel('Longitude')\n",
    "plt.ylabel('Latitude')\n",
    "plt.colorbar(label='Cluster ID')\n",
    "\n",
    "plt.tight_layout()\n",
    "plt.show()"
   ]
  },
  {
   "cell_type": "code",
   "execution_count": null,
   "metadata": {
    "vscode": {
     "languageId": "plaintext"
    }
   },
   "outputs": [],
   "source": [
    "import folium\n",
    "from folium.plugins import MarkerCluster\n",
    "\n",
    "# Assuming 'coords' is an array of your coordinates and 'optimal_labels' contains the cluster labels\n",
    "# For the sake of visualization, let's split the 'coords' into 'start_coords' and 'end_coords'\n",
    "# and 'optimal_labels' into 'start_labels' and 'end_labels', as done previously\n",
    "midpoint = len(coords) // 2\n",
    "start_coords = coords[:midpoint]\n",
    "end_coords = coords[midpoint:]\n",
    "start_labels = optimal_labels[:midpoint]\n",
    "end_labels = optimal_labels[midpoint:]\n",
    "\n",
    "# Initialize a map centered around the average location\n",
    "map_center = [np.mean(coords[:, 0]), np.mean(coords[:, 1])]\n",
    "folium_map = folium.Map(location=map_center, zoom_start=12)\n",
    "\n",
    "# Define colors for clusters (extend this list if you have more than 2 clusters)\n",
    "cluster_colors = ['red', 'blue', 'green', 'purple', 'orange', 'darkred', 'lightred', 'beige', 'darkblue', 'darkgreen', 'cadetblue', 'darkpurple', 'white', 'pink', 'lightblue', 'lightgreen', 'gray', 'black', 'lightgray']\n",
    "\n",
    "# Add start location markers to the map\n",
    "for i, (lat, lon) in enumerate(start_coords):\n",
    "    cluster_label = start_labels[i]\n",
    "    folium.CircleMarker(location=(lat, lon),\n",
    "                        radius=5,\n",
    "                        color=cluster_colors[cluster_label],\n",
    "                        fill=True,\n",
    "                        fill_color=cluster_colors[cluster_label],\n",
    "                        fill_opacity=0.6,\n",
    "                        popup=f'Start Cluster: {cluster_label}').add_to(folium_map)\n",
    "\n",
    "# Optionally, add end location markers to the map with a different marker\n",
    "for i, (lat, lon) in enumerate(end_coords):\n",
    "    cluster_label = end_labels[i]\n",
    "    folium.CircleMarker(location=(lat, lon),\n",
    "                        radius=5,\n",
    "                        color=cluster_colors[cluster_label],\n",
    "                        fill=True,\n",
    "                        fill_color=cluster_colors[cluster_label],\n",
    "                        fill_opacity=0.6,\n",
    "                        popup=f'End Cluster: {cluster_label}').add_to(folium_map)\n",
    "\n",
    "# Display the map\n",
    "folium_map"
   ]
  }
 ],
 "metadata": {
  "kernelspec": {
   "display_name": "Python 3",
   "language": "python",
   "name": "python3"
  },
  "language_info": {
   "codemirror_mode": {
    "name": "ipython",
    "version": 3
   },
   "file_extension": ".py",
   "mimetype": "text/x-python",
   "name": "python",
   "nbconvert_exporter": "python",
   "pygments_lexer": "ipython3",
   "version": "3.9.6"
  }
 },
 "nbformat": 4,
 "nbformat_minor": 2
}
